{
 "cells": [
  {
   "cell_type": "markdown",
   "metadata": {},
   "source": [
    "# SQLAlchemy Homework "
   ]
  },
  {
   "cell_type": "code",
   "execution_count": 1,
   "metadata": {},
   "outputs": [
    {
     "data": {
      "application/javascript": [
       "\n",
       "            setTimeout(function() {\n",
       "                var nbb_cell_id = 1;\n",
       "                var nbb_unformatted_code = \"%load_ext nb_black\";\n",
       "                var nbb_formatted_code = \"%load_ext nb_black\";\n",
       "                var nbb_cells = Jupyter.notebook.get_cells();\n",
       "                for (var i = 0; i < nbb_cells.length; ++i) {\n",
       "                    if (nbb_cells[i].input_prompt_number == nbb_cell_id) {\n",
       "                        if (nbb_cells[i].get_text() == nbb_unformatted_code) {\n",
       "                             nbb_cells[i].set_text(nbb_formatted_code);\n",
       "                        }\n",
       "                        break;\n",
       "                    }\n",
       "                }\n",
       "            }, 500);\n",
       "            "
      ],
      "text/plain": [
       "<IPython.core.display.Javascript object>"
      ]
     },
     "metadata": {},
     "output_type": "display_data"
    }
   ],
   "source": [
    "%load_ext nb_black"
   ]
  },
  {
   "cell_type": "code",
   "execution_count": 2,
   "metadata": {},
   "outputs": [
    {
     "data": {
      "application/javascript": [
       "\n",
       "            setTimeout(function() {\n",
       "                var nbb_cell_id = 2;\n",
       "                var nbb_unformatted_code = \"%matplotlib inline\\nimport matplotlib as mpl\\nfrom matplotlib import style\\n\\nstyle.use(\\\"fivethirtyeight\\\")\\nimport matplotlib.pyplot as plt\\nfrom pprint import pprint\\nimport datetime\";\n",
       "                var nbb_formatted_code = \"%matplotlib inline\\nimport matplotlib as mpl\\nfrom matplotlib import style\\n\\nstyle.use(\\\"fivethirtyeight\\\")\\nimport matplotlib.pyplot as plt\\nfrom pprint import pprint\\nimport datetime\";\n",
       "                var nbb_cells = Jupyter.notebook.get_cells();\n",
       "                for (var i = 0; i < nbb_cells.length; ++i) {\n",
       "                    if (nbb_cells[i].input_prompt_number == nbb_cell_id) {\n",
       "                        if (nbb_cells[i].get_text() == nbb_unformatted_code) {\n",
       "                             nbb_cells[i].set_text(nbb_formatted_code);\n",
       "                        }\n",
       "                        break;\n",
       "                    }\n",
       "                }\n",
       "            }, 500);\n",
       "            "
      ],
      "text/plain": [
       "<IPython.core.display.Javascript object>"
      ]
     },
     "metadata": {},
     "output_type": "display_data"
    }
   ],
   "source": [
    "%matplotlib inline\n",
    "import matplotlib as mpl\n",
    "from matplotlib import style\n",
    "\n",
    "style.use(\"fivethirtyeight\")\n",
    "import matplotlib.pyplot as plt\n",
    "from pprint import pprint\n",
    "import datetime"
   ]
  },
  {
   "cell_type": "code",
   "execution_count": 3,
   "metadata": {},
   "outputs": [
    {
     "data": {
      "application/javascript": [
       "\n",
       "            setTimeout(function() {\n",
       "                var nbb_cell_id = 3;\n",
       "                var nbb_unformatted_code = \"import numpy as np\\nimport pandas as pd\\nimport statistics as stat\";\n",
       "                var nbb_formatted_code = \"import numpy as np\\nimport pandas as pd\\nimport statistics as stat\";\n",
       "                var nbb_cells = Jupyter.notebook.get_cells();\n",
       "                for (var i = 0; i < nbb_cells.length; ++i) {\n",
       "                    if (nbb_cells[i].input_prompt_number == nbb_cell_id) {\n",
       "                        if (nbb_cells[i].get_text() == nbb_unformatted_code) {\n",
       "                             nbb_cells[i].set_text(nbb_formatted_code);\n",
       "                        }\n",
       "                        break;\n",
       "                    }\n",
       "                }\n",
       "            }, 500);\n",
       "            "
      ],
      "text/plain": [
       "<IPython.core.display.Javascript object>"
      ]
     },
     "metadata": {},
     "output_type": "display_data"
    }
   ],
   "source": [
    "import numpy as np\n",
    "import pandas as pd\n",
    "import statistics as stat"
   ]
  },
  {
   "cell_type": "code",
   "execution_count": 4,
   "metadata": {},
   "outputs": [
    {
     "data": {
      "application/javascript": [
       "\n",
       "            setTimeout(function() {\n",
       "                var nbb_cell_id = 4;\n",
       "                var nbb_unformatted_code = \"import datetime as dt\";\n",
       "                var nbb_formatted_code = \"import datetime as dt\";\n",
       "                var nbb_cells = Jupyter.notebook.get_cells();\n",
       "                for (var i = 0; i < nbb_cells.length; ++i) {\n",
       "                    if (nbb_cells[i].input_prompt_number == nbb_cell_id) {\n",
       "                        if (nbb_cells[i].get_text() == nbb_unformatted_code) {\n",
       "                             nbb_cells[i].set_text(nbb_formatted_code);\n",
       "                        }\n",
       "                        break;\n",
       "                    }\n",
       "                }\n",
       "            }, 500);\n",
       "            "
      ],
      "text/plain": [
       "<IPython.core.display.Javascript object>"
      ]
     },
     "metadata": {},
     "output_type": "display_data"
    }
   ],
   "source": [
    "import datetime as dt"
   ]
  },
  {
   "cell_type": "markdown",
   "metadata": {},
   "source": [
    "# Reflect Tables into SQLAlchemy ORM"
   ]
  },
  {
   "cell_type": "code",
   "execution_count": 5,
   "metadata": {},
   "outputs": [
    {
     "data": {
      "application/javascript": [
       "\n",
       "            setTimeout(function() {\n",
       "                var nbb_cell_id = 5;\n",
       "                var nbb_unformatted_code = \"# Python SQL toolkit and Object Relational Mapper\\nimport sqlalchemy\\nfrom sqlalchemy.ext.automap import automap_base\\nfrom sqlalchemy.orm import Session\\nfrom sqlalchemy import create_engine, inspect, func, distinct, desc\\nfrom sqlalchemy import Column, Integer, String, Float\\nfrom sqlalchemy.ext.declarative import declarative_base\\nfrom sqlalchemy.orm import Session\\nfrom sqlalchemy import and_, or_\";\n",
       "                var nbb_formatted_code = \"# Python SQL toolkit and Object Relational Mapper\\nimport sqlalchemy\\nfrom sqlalchemy.ext.automap import automap_base\\nfrom sqlalchemy.orm import Session\\nfrom sqlalchemy import create_engine, inspect, func, distinct, desc\\nfrom sqlalchemy import Column, Integer, String, Float\\nfrom sqlalchemy.ext.declarative import declarative_base\\nfrom sqlalchemy.orm import Session\\nfrom sqlalchemy import and_, or_\";\n",
       "                var nbb_cells = Jupyter.notebook.get_cells();\n",
       "                for (var i = 0; i < nbb_cells.length; ++i) {\n",
       "                    if (nbb_cells[i].input_prompt_number == nbb_cell_id) {\n",
       "                        if (nbb_cells[i].get_text() == nbb_unformatted_code) {\n",
       "                             nbb_cells[i].set_text(nbb_formatted_code);\n",
       "                        }\n",
       "                        break;\n",
       "                    }\n",
       "                }\n",
       "            }, 500);\n",
       "            "
      ],
      "text/plain": [
       "<IPython.core.display.Javascript object>"
      ]
     },
     "metadata": {},
     "output_type": "display_data"
    }
   ],
   "source": [
    "# Python SQL toolkit and Object Relational Mapper\n",
    "import sqlalchemy\n",
    "from sqlalchemy.ext.automap import automap_base\n",
    "from sqlalchemy.orm import Session\n",
    "from sqlalchemy import create_engine, inspect, func, distinct, desc\n",
    "from sqlalchemy import Column, Integer, String, Float\n",
    "from sqlalchemy.ext.declarative import declarative_base\n",
    "from sqlalchemy.orm import Session\n",
    "from sqlalchemy import and_, or_"
   ]
  },
  {
   "cell_type": "code",
   "execution_count": 6,
   "metadata": {},
   "outputs": [
    {
     "data": {
      "application/javascript": [
       "\n",
       "            setTimeout(function() {\n",
       "                var nbb_cell_id = 6;\n",
       "                var nbb_unformatted_code = \"class DictMixIn:\\n    def to_dict(self):\\n        return {\\n            column.name: getattr(self, column.name)\\n            if not isinstance(getattr(self, column.name), datetime.datetime)\\n            else getattr(self, column.name).isoformat()\\n            for column in self.__table__.columns\\n        }\";\n",
       "                var nbb_formatted_code = \"class DictMixIn:\\n    def to_dict(self):\\n        return {\\n            column.name: getattr(self, column.name)\\n            if not isinstance(getattr(self, column.name), datetime.datetime)\\n            else getattr(self, column.name).isoformat()\\n            for column in self.__table__.columns\\n        }\";\n",
       "                var nbb_cells = Jupyter.notebook.get_cells();\n",
       "                for (var i = 0; i < nbb_cells.length; ++i) {\n",
       "                    if (nbb_cells[i].input_prompt_number == nbb_cell_id) {\n",
       "                        if (nbb_cells[i].get_text() == nbb_unformatted_code) {\n",
       "                             nbb_cells[i].set_text(nbb_formatted_code);\n",
       "                        }\n",
       "                        break;\n",
       "                    }\n",
       "                }\n",
       "            }, 500);\n",
       "            "
      ],
      "text/plain": [
       "<IPython.core.display.Javascript object>"
      ]
     },
     "metadata": {},
     "output_type": "display_data"
    }
   ],
   "source": [
    "class DictMixIn:\n",
    "    def to_dict(self):\n",
    "        return {\n",
    "            column.name: getattr(self, column.name)\n",
    "            if not isinstance(getattr(self, column.name), datetime.datetime)\n",
    "            else getattr(self, column.name).isoformat()\n",
    "            for column in self.__table__.columns\n",
    "        }"
   ]
  },
  {
   "cell_type": "code",
   "execution_count": 7,
   "metadata": {},
   "outputs": [
    {
     "data": {
      "application/javascript": [
       "\n",
       "            setTimeout(function() {\n",
       "                var nbb_cell_id = 7;\n",
       "                var nbb_unformatted_code = \"engine = create_engine(\\\"sqlite:///Resources/hawaii.sqlite\\\")\";\n",
       "                var nbb_formatted_code = \"engine = create_engine(\\\"sqlite:///Resources/hawaii.sqlite\\\")\";\n",
       "                var nbb_cells = Jupyter.notebook.get_cells();\n",
       "                for (var i = 0; i < nbb_cells.length; ++i) {\n",
       "                    if (nbb_cells[i].input_prompt_number == nbb_cell_id) {\n",
       "                        if (nbb_cells[i].get_text() == nbb_unformatted_code) {\n",
       "                             nbb_cells[i].set_text(nbb_formatted_code);\n",
       "                        }\n",
       "                        break;\n",
       "                    }\n",
       "                }\n",
       "            }, 500);\n",
       "            "
      ],
      "text/plain": [
       "<IPython.core.display.Javascript object>"
      ]
     },
     "metadata": {},
     "output_type": "display_data"
    }
   ],
   "source": [
    "engine = create_engine(\"sqlite:///Resources/hawaii.sqlite\")"
   ]
  },
  {
   "cell_type": "code",
   "execution_count": 8,
   "metadata": {},
   "outputs": [
    {
     "data": {
      "application/javascript": [
       "\n",
       "            setTimeout(function() {\n",
       "                var nbb_cell_id = 8;\n",
       "                var nbb_unformatted_code = \"# Create a Base class using declarative\\nBase = declarative_base()\";\n",
       "                var nbb_formatted_code = \"# Create a Base class using declarative\\nBase = declarative_base()\";\n",
       "                var nbb_cells = Jupyter.notebook.get_cells();\n",
       "                for (var i = 0; i < nbb_cells.length; ++i) {\n",
       "                    if (nbb_cells[i].input_prompt_number == nbb_cell_id) {\n",
       "                        if (nbb_cells[i].get_text() == nbb_unformatted_code) {\n",
       "                             nbb_cells[i].set_text(nbb_formatted_code);\n",
       "                        }\n",
       "                        break;\n",
       "                    }\n",
       "                }\n",
       "            }, 500);\n",
       "            "
      ],
      "text/plain": [
       "<IPython.core.display.Javascript object>"
      ]
     },
     "metadata": {},
     "output_type": "display_data"
    }
   ],
   "source": [
    "# Create a Base class using declarative\n",
    "Base = declarative_base()"
   ]
  },
  {
   "cell_type": "code",
   "execution_count": 9,
   "metadata": {},
   "outputs": [
    {
     "data": {
      "application/javascript": [
       "\n",
       "            setTimeout(function() {\n",
       "                var nbb_cell_id = 9;\n",
       "                var nbb_unformatted_code = \"# Create our session ans associate it with engine\\nsession = Session(engine)\";\n",
       "                var nbb_formatted_code = \"# Create our session ans associate it with engine\\nsession = Session(engine)\";\n",
       "                var nbb_cells = Jupyter.notebook.get_cells();\n",
       "                for (var i = 0; i < nbb_cells.length; ++i) {\n",
       "                    if (nbb_cells[i].input_prompt_number == nbb_cell_id) {\n",
       "                        if (nbb_cells[i].get_text() == nbb_unformatted_code) {\n",
       "                             nbb_cells[i].set_text(nbb_formatted_code);\n",
       "                        }\n",
       "                        break;\n",
       "                    }\n",
       "                }\n",
       "            }, 500);\n",
       "            "
      ],
      "text/plain": [
       "<IPython.core.display.Javascript object>"
      ]
     },
     "metadata": {},
     "output_type": "display_data"
    }
   ],
   "source": [
    "# Create our session ans associate it with engine\n",
    "session = Session(engine)"
   ]
  },
  {
   "cell_type": "markdown",
   "metadata": {},
   "source": [
    "# Exploratory Climate Analysis\n",
    "\n",
    "* Design a query to retrieve the last 12 months of precipitation data and plot the results\n",
    "\n",
    "* Calculate the date 1 year ago from the last data point in the database\n",
    "\n",
    "* Perform a query to retrieve the data and precipitation scores\n",
    "\n",
    "* Save the query results as a Pandas DataFrame and set the index to the date column\n",
    "\n",
    "# Sort the dataframe by date\n",
    "\n",
    "# Use Pandas Plotting with Matplotlib to plot the data"
   ]
  },
  {
   "cell_type": "code",
   "execution_count": 10,
   "metadata": {},
   "outputs": [
    {
     "name": "stdout",
     "output_type": "stream",
     "text": [
      "measurement:\n",
      "[['id', INTEGER()],\n",
      " ['station', TEXT()],\n",
      " ['date', TEXT()],\n",
      " ['prcp', FLOAT()],\n",
      " ['tobs', FLOAT()]]\n",
      "station:\n",
      "[['id', INTEGER()],\n",
      " ['station', TEXT()],\n",
      " ['name', TEXT()],\n",
      " ['latitude', FLOAT()],\n",
      " ['longitude', FLOAT()],\n",
      " ['elevation', FLOAT()]]\n"
     ]
    },
    {
     "data": {
      "application/javascript": [
       "\n",
       "            setTimeout(function() {\n",
       "                var nbb_cell_id = 10;\n",
       "                var nbb_unformatted_code = \"# The below code is used to check table names, it's column names and data type\\ninspector = inspect(engine)\\ntable_names = inspector.get_table_names()\\nfor table in table_names:\\n    print(table + \\\":\\\")\\n    columns = inspector.get_columns(table)\\n    pprint([[column[\\\"name\\\"], column[\\\"type\\\"]] for column in columns])\\n\\n\\n# create a Measurement and Station classes and map to tables measurement and station respectively\\nclass Measurement(Base, DictMixIn):\\n    __tablename__ = \\\"measurement\\\"\\n    id = Column(Integer, primary_key=True)\\n    station = Column(String)\\n    date = Column(String)\\n    prcp = Column(Float)\\n    tobs = Column(Float)\\n\\n\\nclass Station(Base, DictMixIn):\\n    __tablename__ = \\\"station\\\"\\n    id = Column(Integer, primary_key=True)\\n    station = Column(String)\\n    name = Column(String)\\n    latitude = Column(Float)\\n    longitude = Column(Float)\\n    elevation = Column(Float)\";\n",
       "                var nbb_formatted_code = \"# The below code is used to check table names, it's column names and data type\\ninspector = inspect(engine)\\ntable_names = inspector.get_table_names()\\nfor table in table_names:\\n    print(table + \\\":\\\")\\n    columns = inspector.get_columns(table)\\n    pprint([[column[\\\"name\\\"], column[\\\"type\\\"]] for column in columns])\\n\\n\\n# create a Measurement and Station classes and map to tables measurement and station respectively\\nclass Measurement(Base, DictMixIn):\\n    __tablename__ = \\\"measurement\\\"\\n    id = Column(Integer, primary_key=True)\\n    station = Column(String)\\n    date = Column(String)\\n    prcp = Column(Float)\\n    tobs = Column(Float)\\n\\n\\nclass Station(Base, DictMixIn):\\n    __tablename__ = \\\"station\\\"\\n    id = Column(Integer, primary_key=True)\\n    station = Column(String)\\n    name = Column(String)\\n    latitude = Column(Float)\\n    longitude = Column(Float)\\n    elevation = Column(Float)\";\n",
       "                var nbb_cells = Jupyter.notebook.get_cells();\n",
       "                for (var i = 0; i < nbb_cells.length; ++i) {\n",
       "                    if (nbb_cells[i].input_prompt_number == nbb_cell_id) {\n",
       "                        if (nbb_cells[i].get_text() == nbb_unformatted_code) {\n",
       "                             nbb_cells[i].set_text(nbb_formatted_code);\n",
       "                        }\n",
       "                        break;\n",
       "                    }\n",
       "                }\n",
       "            }, 500);\n",
       "            "
      ],
      "text/plain": [
       "<IPython.core.display.Javascript object>"
      ]
     },
     "metadata": {},
     "output_type": "display_data"
    }
   ],
   "source": [
    "# The below code is used to check table names, it's column names and data type\n",
    "inspector = inspect(engine)\n",
    "table_names = inspector.get_table_names()\n",
    "for table in table_names:\n",
    "    print(table + \":\")\n",
    "    columns = inspector.get_columns(table)\n",
    "    pprint([[column[\"name\"], column[\"type\"]] for column in columns])\n",
    "\n",
    "\n",
    "# create a Measurement and Station classes and map to tables measurement and station respectively\n",
    "class Measurement(Base, DictMixIn):\n",
    "    __tablename__ = \"measurement\"\n",
    "    id = Column(Integer, primary_key=True)\n",
    "    station = Column(String)\n",
    "    date = Column(String)\n",
    "    prcp = Column(Float)\n",
    "    tobs = Column(Float)\n",
    "\n",
    "\n",
    "class Station(Base, DictMixIn):\n",
    "    __tablename__ = \"station\"\n",
    "    id = Column(Integer, primary_key=True)\n",
    "    station = Column(String)\n",
    "    name = Column(String)\n",
    "    latitude = Column(Float)\n",
    "    longitude = Column(Float)\n",
    "    elevation = Column(Float)"
   ]
  },
  {
   "cell_type": "code",
   "execution_count": 11,
   "metadata": {},
   "outputs": [
    {
     "name": "stdout",
     "output_type": "stream",
     "text": [
      "2017-08-23\n"
     ]
    },
    {
     "data": {
      "text/html": [
       "<div>\n",
       "<style scoped>\n",
       "    .dataframe tbody tr th:only-of-type {\n",
       "        vertical-align: middle;\n",
       "    }\n",
       "\n",
       "    .dataframe tbody tr th {\n",
       "        vertical-align: top;\n",
       "    }\n",
       "\n",
       "    .dataframe thead th {\n",
       "        text-align: right;\n",
       "    }\n",
       "</style>\n",
       "<table border=\"1\" class=\"dataframe\">\n",
       "  <thead>\n",
       "    <tr style=\"text-align: right;\">\n",
       "      <th></th>\n",
       "      <th>date</th>\n",
       "      <th>id</th>\n",
       "      <th>prcp</th>\n",
       "      <th>station</th>\n",
       "      <th>tobs</th>\n",
       "    </tr>\n",
       "  </thead>\n",
       "  <tbody>\n",
       "    <tr>\n",
       "      <th>0</th>\n",
       "      <td>2016-08-24</td>\n",
       "      <td>2365</td>\n",
       "      <td>0.08</td>\n",
       "      <td>USC00519397</td>\n",
       "      <td>79.0</td>\n",
       "    </tr>\n",
       "    <tr>\n",
       "      <th>1</th>\n",
       "      <td>2016-08-25</td>\n",
       "      <td>2366</td>\n",
       "      <td>0.08</td>\n",
       "      <td>USC00519397</td>\n",
       "      <td>80.0</td>\n",
       "    </tr>\n",
       "    <tr>\n",
       "      <th>2</th>\n",
       "      <td>2016-08-26</td>\n",
       "      <td>2367</td>\n",
       "      <td>0.00</td>\n",
       "      <td>USC00519397</td>\n",
       "      <td>79.0</td>\n",
       "    </tr>\n",
       "    <tr>\n",
       "      <th>3</th>\n",
       "      <td>2016-08-27</td>\n",
       "      <td>2368</td>\n",
       "      <td>0.00</td>\n",
       "      <td>USC00519397</td>\n",
       "      <td>77.0</td>\n",
       "    </tr>\n",
       "    <tr>\n",
       "      <th>4</th>\n",
       "      <td>2016-08-28</td>\n",
       "      <td>2369</td>\n",
       "      <td>0.01</td>\n",
       "      <td>USC00519397</td>\n",
       "      <td>78.0</td>\n",
       "    </tr>\n",
       "  </tbody>\n",
       "</table>\n",
       "</div>"
      ],
      "text/plain": [
       "         date    id  prcp      station  tobs\n",
       "0  2016-08-24  2365  0.08  USC00519397  79.0\n",
       "1  2016-08-25  2366  0.08  USC00519397  80.0\n",
       "2  2016-08-26  2367  0.00  USC00519397  79.0\n",
       "3  2016-08-27  2368  0.00  USC00519397  77.0\n",
       "4  2016-08-28  2369  0.01  USC00519397  78.0"
      ]
     },
     "execution_count": 11,
     "metadata": {},
     "output_type": "execute_result"
    },
    {
     "data": {
      "application/javascript": [
       "\n",
       "            setTimeout(function() {\n",
       "                var nbb_cell_id = 11;\n",
       "                var nbb_unformatted_code = \"# A query to determin the maximum date in the data set\\nmax_date = session.query(func.max(Measurement.date)).all()\\nmax_date = [date[0] for date in max_date][0]\\nprint(max_date)\\n\\n# A query to retrieve last 12 months data from the data set\\ncmd = session.query(Measurement).filter(\\n    and_(\\n        Measurement.date > datetime.datetime(2016, 8, 23),\\n        Measurement.date <= datetime.datetime(2017, 8, 23),\\n    )\\n)\\n\\nPrecipitations = cmd.all()\\ndf_Measurement = pd.DataFrame([Precip.to_dict() for Precip in Precipitations])\\ndf_Measurement.head()\";\n",
       "                var nbb_formatted_code = \"# A query to determin the maximum date in the data set\\nmax_date = session.query(func.max(Measurement.date)).all()\\nmax_date = [date[0] for date in max_date][0]\\nprint(max_date)\\n\\n# A query to retrieve last 12 months data from the data set\\ncmd = session.query(Measurement).filter(\\n    and_(\\n        Measurement.date > datetime.datetime(2016, 8, 23),\\n        Measurement.date <= datetime.datetime(2017, 8, 23),\\n    )\\n)\\n\\nPrecipitations = cmd.all()\\ndf_Measurement = pd.DataFrame([Precip.to_dict() for Precip in Precipitations])\\ndf_Measurement.head()\";\n",
       "                var nbb_cells = Jupyter.notebook.get_cells();\n",
       "                for (var i = 0; i < nbb_cells.length; ++i) {\n",
       "                    if (nbb_cells[i].input_prompt_number == nbb_cell_id) {\n",
       "                        if (nbb_cells[i].get_text() == nbb_unformatted_code) {\n",
       "                             nbb_cells[i].set_text(nbb_formatted_code);\n",
       "                        }\n",
       "                        break;\n",
       "                    }\n",
       "                }\n",
       "            }, 500);\n",
       "            "
      ],
      "text/plain": [
       "<IPython.core.display.Javascript object>"
      ]
     },
     "metadata": {},
     "output_type": "display_data"
    }
   ],
   "source": [
    "# A query to determin the maximum date in the data set\n",
    "max_date = session.query(func.max(Measurement.date)).all()\n",
    "max_date = [date[0] for date in max_date][0]\n",
    "print(max_date)\n",
    "\n",
    "# A query to retrieve last 12 months data from the data set\n",
    "cmd = session.query(Measurement).filter(\n",
    "    and_(\n",
    "        Measurement.date > datetime.datetime(2016, 8, 23),\n",
    "        Measurement.date <= datetime.datetime(2017, 8, 23),\n",
    "    )\n",
    ")\n",
    "\n",
    "Precipitations = cmd.all()\n",
    "df_Measurement = pd.DataFrame([Precip.to_dict() for Precip in Precipitations])\n",
    "df_Measurement.head()"
   ]
  },
  {
   "cell_type": "code",
   "execution_count": 12,
   "metadata": {},
   "outputs": [
    {
     "data": {
      "text/plain": [
       "count    2015.000000\n",
       "mean        0.176462\n",
       "std         0.460288\n",
       "min         0.000000\n",
       "25%         0.000000\n",
       "50%         0.020000\n",
       "75%         0.130000\n",
       "max         6.700000\n",
       "Name: prcp, dtype: float64"
      ]
     },
     "execution_count": 12,
     "metadata": {},
     "output_type": "execute_result"
    },
    {
     "data": {
      "application/javascript": [
       "\n",
       "            setTimeout(function() {\n",
       "                var nbb_cell_id = 12;\n",
       "                var nbb_unformatted_code = \"# Use Pandas to calcualte the summary statistics for the precipitation data\\ndf = df_Measurement[[\\\"date\\\", \\\"prcp\\\"]]\\ndf = df.set_index(\\\"date\\\")\\ndf.sort_index(inplace=True)\\nsummary = pd.Series(df[\\\"prcp\\\"])\\nsummary.describe()\";\n",
       "                var nbb_formatted_code = \"# Use Pandas to calcualte the summary statistics for the precipitation data\\ndf = df_Measurement[[\\\"date\\\", \\\"prcp\\\"]]\\ndf = df.set_index(\\\"date\\\")\\ndf.sort_index(inplace=True)\\nsummary = pd.Series(df[\\\"prcp\\\"])\\nsummary.describe()\";\n",
       "                var nbb_cells = Jupyter.notebook.get_cells();\n",
       "                for (var i = 0; i < nbb_cells.length; ++i) {\n",
       "                    if (nbb_cells[i].input_prompt_number == nbb_cell_id) {\n",
       "                        if (nbb_cells[i].get_text() == nbb_unformatted_code) {\n",
       "                             nbb_cells[i].set_text(nbb_formatted_code);\n",
       "                        }\n",
       "                        break;\n",
       "                    }\n",
       "                }\n",
       "            }, 500);\n",
       "            "
      ],
      "text/plain": [
       "<IPython.core.display.Javascript object>"
      ]
     },
     "metadata": {},
     "output_type": "display_data"
    }
   ],
   "source": [
    "# Use Pandas to calcualte the summary statistics for the precipitation data\n",
    "df = df_Measurement[[\"date\", \"prcp\"]]\n",
    "df = df.set_index(\"date\")\n",
    "df.sort_index(inplace=True)\n",
    "summary = pd.Series(df[\"prcp\"])\n",
    "summary.describe()"
   ]
  },
  {
   "cell_type": "code",
   "execution_count": 13,
   "metadata": {},
   "outputs": [
    {
     "name": "stdout",
     "output_type": "stream",
     "text": [
      "Number of Stations = 9\n"
     ]
    },
    {
     "data": {
      "application/javascript": [
       "\n",
       "            setTimeout(function() {\n",
       "                var nbb_cell_id = 13;\n",
       "                var nbb_unformatted_code = \"# Design a query to show how many stations are available in this dataset?\\nno_of_stations = session.query(func.count(distinct(Station.station))).all()\\nno_of_stations = [n[0] for n in no_of_stations][0]\\nprint(f\\\"Number of Stations = {no_of_stations}\\\")\";\n",
       "                var nbb_formatted_code = \"# Design a query to show how many stations are available in this dataset?\\nno_of_stations = session.query(func.count(distinct(Station.station))).all()\\nno_of_stations = [n[0] for n in no_of_stations][0]\\nprint(f\\\"Number of Stations = {no_of_stations}\\\")\";\n",
       "                var nbb_cells = Jupyter.notebook.get_cells();\n",
       "                for (var i = 0; i < nbb_cells.length; ++i) {\n",
       "                    if (nbb_cells[i].input_prompt_number == nbb_cell_id) {\n",
       "                        if (nbb_cells[i].get_text() == nbb_unformatted_code) {\n",
       "                             nbb_cells[i].set_text(nbb_formatted_code);\n",
       "                        }\n",
       "                        break;\n",
       "                    }\n",
       "                }\n",
       "            }, 500);\n",
       "            "
      ],
      "text/plain": [
       "<IPython.core.display.Javascript object>"
      ]
     },
     "metadata": {},
     "output_type": "display_data"
    }
   ],
   "source": [
    "# Design a query to show how many stations are available in this dataset?\n",
    "no_of_stations = session.query(func.count(distinct(Station.station))).all()\n",
    "no_of_stations = [n[0] for n in no_of_stations][0]\n",
    "print(f\"Number of Stations = {no_of_stations}\")"
   ]
  },
  {
   "cell_type": "code",
   "execution_count": 14,
   "metadata": {},
   "outputs": [
    {
     "name": "stdout",
     "output_type": "stream",
     "text": [
      "List of stations and the counts in descending order\n",
      "[('USC00519281', 'WAIHEE 837.5, HI US', 2772),\n",
      " ('USC00519397', 'WAIKIKI 717.2, HI US', 2724),\n",
      " ('USC00513117', 'KANEOHE 838.1, HI US', 2709),\n",
      " ('USC00519523', 'WAIMANALO EXPERIMENTAL FARM, HI US', 2669),\n",
      " ('USC00516128', 'MANOA LYON ARBO 785.2, HI US', 2612),\n",
      " ('USC00514830', 'KUALOA RANCH HEADQUARTERS 886.9, HI US', 2202),\n",
      " ('USC00511918', 'HONOLULU OBSERVATORY 702.2, HI US', 1979),\n",
      " ('USC00517948', 'PEARL CITY, HI US', 1372),\n",
      " ('USC00518838', 'UPPER WAHIAWA 874.3, HI US', 511)]\n"
     ]
    },
    {
     "data": {
      "application/javascript": [
       "\n",
       "            setTimeout(function() {\n",
       "                var nbb_cell_id = 14;\n",
       "                var nbb_unformatted_code = \"# What are the most active stations? (i.e. what stations have the most rows)?\\n# List the stations and the counts in descending order.\\n\\ncmd = (\\n    session.query(Measurement.station, Station.name, func.count(Measurement.station))\\n    .filter(Measurement.station == Station.station)\\n    .group_by(Measurement.station)\\n    .order_by(desc(func.count(Measurement.station)))\\n)\\nitems = cmd.all()\\nprint(\\\"List of stations and the counts in descending order\\\")\\npprint(items)\";\n",
       "                var nbb_formatted_code = \"# What are the most active stations? (i.e. what stations have the most rows)?\\n# List the stations and the counts in descending order.\\n\\ncmd = (\\n    session.query(Measurement.station, Station.name, func.count(Measurement.station))\\n    .filter(Measurement.station == Station.station)\\n    .group_by(Measurement.station)\\n    .order_by(desc(func.count(Measurement.station)))\\n)\\nitems = cmd.all()\\nprint(\\\"List of stations and the counts in descending order\\\")\\npprint(items)\";\n",
       "                var nbb_cells = Jupyter.notebook.get_cells();\n",
       "                for (var i = 0; i < nbb_cells.length; ++i) {\n",
       "                    if (nbb_cells[i].input_prompt_number == nbb_cell_id) {\n",
       "                        if (nbb_cells[i].get_text() == nbb_unformatted_code) {\n",
       "                             nbb_cells[i].set_text(nbb_formatted_code);\n",
       "                        }\n",
       "                        break;\n",
       "                    }\n",
       "                }\n",
       "            }, 500);\n",
       "            "
      ],
      "text/plain": [
       "<IPython.core.display.Javascript object>"
      ]
     },
     "metadata": {},
     "output_type": "display_data"
    }
   ],
   "source": [
    "# What are the most active stations? (i.e. what stations have the most rows)?\n",
    "# List the stations and the counts in descending order.\n",
    "\n",
    "cmd = (\n",
    "    session.query(Measurement.station, Station.name, func.count(Measurement.station))\n",
    "    .filter(Measurement.station == Station.station)\n",
    "    .group_by(Measurement.station)\n",
    "    .order_by(desc(func.count(Measurement.station)))\n",
    ")\n",
    "items = cmd.all()\n",
    "print(\"List of stations and the counts in descending order\")\n",
    "pprint(items)"
   ]
  },
  {
   "cell_type": "code",
   "execution_count": 15,
   "metadata": {},
   "outputs": [
    {
     "name": "stdout",
     "output_type": "stream",
     "text": [
      "Most Active Station is ('USC00519281', 'WAIHEE 837.5, HI US', 2772)\n"
     ]
    },
    {
     "data": {
      "application/javascript": [
       "\n",
       "            setTimeout(function() {\n",
       "                var nbb_cell_id = 15;\n",
       "                var nbb_unformatted_code = \"# Find the station with max number of rows\\nMost_Active_Station = max(items, key=lambda x: x[2])\\nprint(f\\\"Most Active Station is {Most_Active_Station}\\\")\";\n",
       "                var nbb_formatted_code = \"# Find the station with max number of rows\\nMost_Active_Station = max(items, key=lambda x: x[2])\\nprint(f\\\"Most Active Station is {Most_Active_Station}\\\")\";\n",
       "                var nbb_cells = Jupyter.notebook.get_cells();\n",
       "                for (var i = 0; i < nbb_cells.length; ++i) {\n",
       "                    if (nbb_cells[i].input_prompt_number == nbb_cell_id) {\n",
       "                        if (nbb_cells[i].get_text() == nbb_unformatted_code) {\n",
       "                             nbb_cells[i].set_text(nbb_formatted_code);\n",
       "                        }\n",
       "                        break;\n",
       "                    }\n",
       "                }\n",
       "            }, 500);\n",
       "            "
      ],
      "text/plain": [
       "<IPython.core.display.Javascript object>"
      ]
     },
     "metadata": {},
     "output_type": "display_data"
    }
   ],
   "source": [
    "# Find the station with max number of rows\n",
    "Most_Active_Station = max(items, key=lambda x: x[2])\n",
    "print(f\"Most Active Station is {Most_Active_Station}\")"
   ]
  },
  {
   "cell_type": "code",
   "execution_count": 16,
   "metadata": {},
   "outputs": [
    {
     "name": "stdout",
     "output_type": "stream",
     "text": [
      "Below is the statistics of Most active station\n",
      "Minimum temperature : 59.0\n",
      "Maximum temperature : 83.0\n",
      "Average temperature : 73.1\n"
     ]
    },
    {
     "data": {
      "application/javascript": [
       "\n",
       "            setTimeout(function() {\n",
       "                var nbb_cell_id = 16;\n",
       "                var nbb_unformatted_code = \"# Using the station id from the previous query, calculate the lowest temperature recorded, \\n# highest temperature recorded, and average temperature most active station?\\ncmd = session.query(Measurement)\\\\\\n      .filter(\\n        and_(\\n            Measurement.station == 'USC00519281',\\n            Measurement.date > datetime.datetime(2016,8,23),\\n            Measurement.date <= datetime.datetime(2017,8,23),           \\n        )\\\\\\n  )\\nitems = cmd.all()\\ndf_temperature_active_station = pd.DataFrame([item.to_dict() for item in items])\\ndf_temperature_active_station.head()\\nprint(\\\"Below is the statistics of Most active station\\\")\\nprint(f\\\"Minimum temperature : {df_temperature_active_station['tobs'].min()}\\\")\\nprint(f\\\"Maximum temperature : {df_temperature_active_station['tobs'].max()}\\\")\\nprint(f\\\"Average temperature : {round(df_temperature_active_station['tobs'].mean(), 2)}\\\")\";\n",
       "                var nbb_formatted_code = \"# Using the station id from the previous query, calculate the lowest temperature recorded,\\n# highest temperature recorded, and average temperature most active station?\\ncmd = session.query(Measurement).filter(\\n    and_(\\n        Measurement.station == \\\"USC00519281\\\",\\n        Measurement.date > datetime.datetime(2016, 8, 23),\\n        Measurement.date <= datetime.datetime(2017, 8, 23),\\n    )\\n)\\nitems = cmd.all()\\ndf_temperature_active_station = pd.DataFrame([item.to_dict() for item in items])\\ndf_temperature_active_station.head()\\nprint(\\\"Below is the statistics of Most active station\\\")\\nprint(f\\\"Minimum temperature : {df_temperature_active_station['tobs'].min()}\\\")\\nprint(f\\\"Maximum temperature : {df_temperature_active_station['tobs'].max()}\\\")\\nprint(f\\\"Average temperature : {round(df_temperature_active_station['tobs'].mean(), 2)}\\\")\";\n",
       "                var nbb_cells = Jupyter.notebook.get_cells();\n",
       "                for (var i = 0; i < nbb_cells.length; ++i) {\n",
       "                    if (nbb_cells[i].input_prompt_number == nbb_cell_id) {\n",
       "                        if (nbb_cells[i].get_text() == nbb_unformatted_code) {\n",
       "                             nbb_cells[i].set_text(nbb_formatted_code);\n",
       "                        }\n",
       "                        break;\n",
       "                    }\n",
       "                }\n",
       "            }, 500);\n",
       "            "
      ],
      "text/plain": [
       "<IPython.core.display.Javascript object>"
      ]
     },
     "metadata": {},
     "output_type": "display_data"
    }
   ],
   "source": [
    "# Using the station id from the previous query, calculate the lowest temperature recorded, \n",
    "# highest temperature recorded, and average temperature most active station?\n",
    "cmd = session.query(Measurement)\\\n",
    "      .filter(\n",
    "        and_(\n",
    "            Measurement.station == 'USC00519281',\n",
    "            Measurement.date > datetime.datetime(2016,8,23),\n",
    "            Measurement.date <= datetime.datetime(2017,8,23),           \n",
    "        )\\\n",
    "  )\n",
    "items = cmd.all()\n",
    "df_temperature_active_station = pd.DataFrame([item.to_dict() for item in items])\n",
    "df_temperature_active_station.head()\n",
    "print(\"Below is the statistics of Most active station\")\n",
    "print(f\"Minimum temperature : {df_temperature_active_station['tobs'].min()}\")\n",
    "print(f\"Maximum temperature : {df_temperature_active_station['tobs'].max()}\")\n",
    "print(f\"Average temperature : {round(df_temperature_active_station['tobs'].mean(), 2)}\")\n"
   ]
  },
  {
   "cell_type": "code",
   "execution_count": 17,
   "metadata": {},
   "outputs": [
    {
     "data": {
      "text/plain": [
       "Text(0.5, 1.0, 'Histogram of Average Temperatures for last 12 months')"
      ]
     },
     "execution_count": 17,
     "metadata": {},
     "output_type": "execute_result"
    },
    {
     "data": {
      "image/png": "[encoded data removed]",
      "text/plain": [
       "<Figure size 432x288 with 1 Axes>"
      ]
     },
     "metadata": {
      "needs_background": "light"
     },
     "output_type": "display_data"
    },
    {
     "data": {
      "application/javascript": [
       "\n",
       "            setTimeout(function() {\n",
       "                var nbb_cell_id = 17;\n",
       "                var nbb_unformatted_code = \"# Choose the station with the highest number of temperature observations.\\n# Query the last 12 months of temperature observation data for this station and plot the results as a histogram\\ndf_temperature_active_station.head()\\ntemp = df_temperature_active_station[\\\"tobs\\\"]\\ntemp.hist(bins=12)\\nplt.ylabel(\\\"Frequency\\\")\\nplt.xlabel(\\\"Temperature\\\")\\nplt.title(\\\"Histogram of Average Temperatures for last 12 months\\\")\";\n",
       "                var nbb_formatted_code = \"# Choose the station with the highest number of temperature observations.\\n# Query the last 12 months of temperature observation data for this station and plot the results as a histogram\\ndf_temperature_active_station.head()\\ntemp = df_temperature_active_station[\\\"tobs\\\"]\\ntemp.hist(bins=12)\\nplt.ylabel(\\\"Frequency\\\")\\nplt.xlabel(\\\"Temperature\\\")\\nplt.title(\\\"Histogram of Average Temperatures for last 12 months\\\")\";\n",
       "                var nbb_cells = Jupyter.notebook.get_cells();\n",
       "                for (var i = 0; i < nbb_cells.length; ++i) {\n",
       "                    if (nbb_cells[i].input_prompt_number == nbb_cell_id) {\n",
       "                        if (nbb_cells[i].get_text() == nbb_unformatted_code) {\n",
       "                             nbb_cells[i].set_text(nbb_formatted_code);\n",
       "                        }\n",
       "                        break;\n",
       "                    }\n",
       "                }\n",
       "            }, 500);\n",
       "            "
      ],
      "text/plain": [
       "<IPython.core.display.Javascript object>"
      ]
     },
     "metadata": {},
     "output_type": "display_data"
    }
   ],
   "source": [
    "# Choose the station with the highest number of temperature observations.\n",
    "# Query the last 12 months of temperature observation data for this station and plot the results as a histogram\n",
    "df_temperature_active_station.head()\n",
    "temp = df_temperature_active_station[\"tobs\"]\n",
    "temp.hist(bins=12)\n",
    "plt.ylabel(\"Frequency\")\n",
    "plt.xlabel(\"Temperature\")\n",
    "plt.title(\"Histogram of Average Temperatures for last 12 months\")"
   ]
  },
  {
   "cell_type": "code",
   "execution_count": 18,
   "metadata": {},
   "outputs": [
    {
     "name": "stdout",
     "output_type": "stream",
     "text": [
      "[(62.0, 69.57142857142857, 74.0)]\n"
     ]
    },
    {
     "data": {
      "application/javascript": [
       "\n",
       "            setTimeout(function() {\n",
       "                var nbb_cell_id = 18;\n",
       "                var nbb_unformatted_code = \"# This function called `calc_temps` will accept start date and end date in the format '%Y-%m-%d'\\n# and return the minimum, average, and maximum temperatures for that range of dates\\ndef calc_temps(start_date, end_date):\\n    \\\"\\\"\\\"TMIN, TAVG, and TMAX for a list of dates.\\n    \\n    Args:\\n        start_date (string): A date string in the format %Y-%m-%d\\n        end_date (string): A date string in the format %Y-%m-%d\\n        \\n    Returns:\\n        TMIN, TAVE, and TMAX\\n    \\\"\\\"\\\"\\n\\n    return (\\n        session.query(\\n            func.min(Measurement.tobs),\\n            func.avg(Measurement.tobs),\\n            func.max(Measurement.tobs),\\n        )\\n        .filter(Measurement.date >= start_date)\\n        .filter(Measurement.date <= end_date)\\n        .all()\\n    )\\n\\n\\n# function usage example\\nprint(calc_temps(\\\"2012-02-28\\\", \\\"2012-03-05\\\"))\";\n",
       "                var nbb_formatted_code = \"# This function called `calc_temps` will accept start date and end date in the format '%Y-%m-%d'\\n# and return the minimum, average, and maximum temperatures for that range of dates\\ndef calc_temps(start_date, end_date):\\n    \\\"\\\"\\\"TMIN, TAVG, and TMAX for a list of dates.\\n    \\n    Args:\\n        start_date (string): A date string in the format %Y-%m-%d\\n        end_date (string): A date string in the format %Y-%m-%d\\n        \\n    Returns:\\n        TMIN, TAVE, and TMAX\\n    \\\"\\\"\\\"\\n\\n    return (\\n        session.query(\\n            func.min(Measurement.tobs),\\n            func.avg(Measurement.tobs),\\n            func.max(Measurement.tobs),\\n        )\\n        .filter(Measurement.date >= start_date)\\n        .filter(Measurement.date <= end_date)\\n        .all()\\n    )\\n\\n\\n# function usage example\\nprint(calc_temps(\\\"2012-02-28\\\", \\\"2012-03-05\\\"))\";\n",
       "                var nbb_cells = Jupyter.notebook.get_cells();\n",
       "                for (var i = 0; i < nbb_cells.length; ++i) {\n",
       "                    if (nbb_cells[i].input_prompt_number == nbb_cell_id) {\n",
       "                        if (nbb_cells[i].get_text() == nbb_unformatted_code) {\n",
       "                             nbb_cells[i].set_text(nbb_formatted_code);\n",
       "                        }\n",
       "                        break;\n",
       "                    }\n",
       "                }\n",
       "            }, 500);\n",
       "            "
      ],
      "text/plain": [
       "<IPython.core.display.Javascript object>"
      ]
     },
     "metadata": {},
     "output_type": "display_data"
    }
   ],
   "source": [
    "# This function called `calc_temps` will accept start date and end date in the format '%Y-%m-%d'\n",
    "# and return the minimum, average, and maximum temperatures for that range of dates\n",
    "def calc_temps(start_date, end_date):\n",
    "    \"\"\"TMIN, TAVG, and TMAX for a list of dates.\n",
    "    \n",
    "    Args:\n",
    "        start_date (string): A date string in the format %Y-%m-%d\n",
    "        end_date (string): A date string in the format %Y-%m-%d\n",
    "        \n",
    "    Returns:\n",
    "        TMIN, TAVE, and TMAX\n",
    "    \"\"\"\n",
    "\n",
    "    return (\n",
    "        session.query(\n",
    "            func.min(Measurement.tobs),\n",
    "            func.avg(Measurement.tobs),\n",
    "            func.max(Measurement.tobs),\n",
    "        )\n",
    "        .filter(Measurement.date >= start_date)\n",
    "        .filter(Measurement.date <= end_date)\n",
    "        .all()\n",
    "    )\n",
    "\n",
    "\n",
    "# function usage example\n",
    "print(calc_temps(\"2012-02-28\", \"2012-03-05\"))"
   ]
  },
  {
   "cell_type": "code",
   "execution_count": 19,
   "metadata": {},
   "outputs": [
    {
     "name": "stdout",
     "output_type": "stream",
     "text": [
      "Tmin = 58.0, Tavg = 74.05024088093599, Tmax = 87.0\n"
     ]
    },
    {
     "data": {
      "application/javascript": [
       "\n",
       "            setTimeout(function() {\n",
       "                var nbb_cell_id = 19;\n",
       "                var nbb_unformatted_code = \"# Use your previous function `calc_temps` to calculate the tmin, tavg, and tmax\\n# for your trip using the previous year's data for those same dates.\\n# Trip dates From 23rd December to 2nd January\\nstats_temp = calc_temps(\\\"2016-12-23\\\", \\\"2017-1-2\\\")\\nlist_stat = [[temp[0], temp[1], temp[2]] for temp in stats_temp][0]\\ntmin = list_stat[0]\\ntavg = list_stat[1]\\ntmax = list_stat[2]\\nprint(f\\\"Tmin = {tmin}, Tavg = {tavg}, Tmax = {tmax}\\\")\";\n",
       "                var nbb_formatted_code = \"# Use your previous function `calc_temps` to calculate the tmin, tavg, and tmax\\n# for your trip using the previous year's data for those same dates.\\n# Trip dates From 23rd December to 2nd January\\nstats_temp = calc_temps(\\\"2016-12-23\\\", \\\"2017-1-2\\\")\\nlist_stat = [[temp[0], temp[1], temp[2]] for temp in stats_temp][0]\\ntmin = list_stat[0]\\ntavg = list_stat[1]\\ntmax = list_stat[2]\\nprint(f\\\"Tmin = {tmin}, Tavg = {tavg}, Tmax = {tmax}\\\")\";\n",
       "                var nbb_cells = Jupyter.notebook.get_cells();\n",
       "                for (var i = 0; i < nbb_cells.length; ++i) {\n",
       "                    if (nbb_cells[i].input_prompt_number == nbb_cell_id) {\n",
       "                        if (nbb_cells[i].get_text() == nbb_unformatted_code) {\n",
       "                             nbb_cells[i].set_text(nbb_formatted_code);\n",
       "                        }\n",
       "                        break;\n",
       "                    }\n",
       "                }\n",
       "            }, 500);\n",
       "            "
      ],
      "text/plain": [
       "<IPython.core.display.Javascript object>"
      ]
     },
     "metadata": {},
     "output_type": "display_data"
    }
   ],
   "source": [
    "# Use your previous function `calc_temps` to calculate the tmin, tavg, and tmax\n",
    "# for your trip using the previous year's data for those same dates.\n",
    "# Trip dates From 23rd December to 2nd January\n",
    "stats_temp = calc_temps(\"2016-12-23\", \"2017-1-2\")\n",
    "list_stat = [[temp[0], temp[1], temp[2]] for temp in stats_temp][0]\n",
    "tmin = list_stat[0]\n",
    "tavg = list_stat[1]\n",
    "tmax = list_stat[2]\n",
    "print(f\"Tmin = {tmin}, Tavg = {tavg}, Tmax = {tmax}\")"
   ]
  },
  {
   "cell_type": "code",
   "execution_count": 20,
   "metadata": {},
   "outputs": [
    {
     "data": {
      "image/png": "[encoded data removed]",
      "text/plain": [
       "<Figure size 432x288 with 1 Axes>"
      ]
     },
     "metadata": {
      "needs_background": "light"
     },
     "output_type": "display_data"
    },
    {
     "data": {
      "application/javascript": [
       "\n",
       "            setTimeout(function() {\n",
       "                var nbb_cell_id = 20;\n",
       "                var nbb_unformatted_code = \"# Plot the results from your previous query as a bar chart.\\n# Use \\\"Trip Avg Temp\\\" as your Title\\n# Use the average temperature for the y value\\n# Use the peak-to-peak (tmax-tmin) value as the y error bar (yerr)\\nlower_error = tavg - tmin\\nupper_error = tmax - tavg\\nasymmetric_error = np.transpose([[lower_error, upper_error]])\\n\\nplt.bar(\\\"23rd December to 2nd January\\\", list_stat[1], width=0.5, yerr=asymmetric_error)\\nplt.title(\\\"Trip Avg Temp\\\")\\nplt.xlim([-2, 2])\\nplt.ylabel(\\\"Temperature\\\")\\nplt.grid(True)\\nplt.show()\";\n",
       "                var nbb_formatted_code = \"# Plot the results from your previous query as a bar chart.\\n# Use \\\"Trip Avg Temp\\\" as your Title\\n# Use the average temperature for the y value\\n# Use the peak-to-peak (tmax-tmin) value as the y error bar (yerr)\\nlower_error = tavg - tmin\\nupper_error = tmax - tavg\\nasymmetric_error = np.transpose([[lower_error, upper_error]])\\n\\nplt.bar(\\\"23rd December to 2nd January\\\", list_stat[1], width=0.5, yerr=asymmetric_error)\\nplt.title(\\\"Trip Avg Temp\\\")\\nplt.xlim([-2, 2])\\nplt.ylabel(\\\"Temperature\\\")\\nplt.grid(True)\\nplt.show()\";\n",
       "                var nbb_cells = Jupyter.notebook.get_cells();\n",
       "                for (var i = 0; i < nbb_cells.length; ++i) {\n",
       "                    if (nbb_cells[i].input_prompt_number == nbb_cell_id) {\n",
       "                        if (nbb_cells[i].get_text() == nbb_unformatted_code) {\n",
       "                             nbb_cells[i].set_text(nbb_formatted_code);\n",
       "                        }\n",
       "                        break;\n",
       "                    }\n",
       "                }\n",
       "            }, 500);\n",
       "            "
      ],
      "text/plain": [
       "<IPython.core.display.Javascript object>"
      ]
     },
     "metadata": {},
     "output_type": "display_data"
    }
   ],
   "source": [
    "# Plot the results from your previous query as a bar chart.\n",
    "# Use \"Trip Avg Temp\" as your Title\n",
    "# Use the average temperature for the y value\n",
    "# Use the peak-to-peak (tmax-tmin) value as the y error bar (yerr)\n",
    "lower_error = tavg - tmin\n",
    "upper_error = tmax - tavg\n",
    "asymmetric_error = np.transpose([[lower_error, upper_error]])\n",
    "\n",
    "plt.bar(\"23rd December to 2nd January\", list_stat[1], width=0.5, yerr=asymmetric_error)\n",
    "plt.title(\"Trip Avg Temp\")\n",
    "plt.xlim([-2, 2])\n",
    "plt.ylabel(\"Temperature\")\n",
    "plt.grid(True)\n",
    "plt.show()"
   ]
  },
  {
   "cell_type": "code",
   "execution_count": 21,
   "metadata": {},
   "outputs": [
    {
     "data": {
      "text/html": [
       "<div>\n",
       "<style scoped>\n",
       "    .dataframe tbody tr th:only-of-type {\n",
       "        vertical-align: middle;\n",
       "    }\n",
       "\n",
       "    .dataframe tbody tr th {\n",
       "        vertical-align: top;\n",
       "    }\n",
       "\n",
       "    .dataframe thead th {\n",
       "        text-align: right;\n",
       "    }\n",
       "</style>\n",
       "<table border=\"1\" class=\"dataframe\">\n",
       "  <thead>\n",
       "    <tr style=\"text-align: right;\">\n",
       "      <th></th>\n",
       "      <th>Elevation</th>\n",
       "      <th>Latitude</th>\n",
       "      <th>Longitude</th>\n",
       "      <th>Name</th>\n",
       "      <th>Station</th>\n",
       "      <th>Total prcp</th>\n",
       "    </tr>\n",
       "  </thead>\n",
       "  <tbody>\n",
       "    <tr>\n",
       "      <th>0</th>\n",
       "      <td>152.4</td>\n",
       "      <td>21.33310</td>\n",
       "      <td>-157.80250</td>\n",
       "      <td>MANOA LYON ARBO 785.2, HI US</td>\n",
       "      <td>USC00516128</td>\n",
       "      <td>7.55</td>\n",
       "    </tr>\n",
       "    <tr>\n",
       "      <th>1</th>\n",
       "      <td>14.6</td>\n",
       "      <td>21.42340</td>\n",
       "      <td>-157.80150</td>\n",
       "      <td>KANEOHE 838.1, HI US</td>\n",
       "      <td>USC00513117</td>\n",
       "      <td>1.85</td>\n",
       "    </tr>\n",
       "    <tr>\n",
       "      <th>2</th>\n",
       "      <td>32.9</td>\n",
       "      <td>21.45167</td>\n",
       "      <td>-157.84889</td>\n",
       "      <td>WAIHEE 837.5, HI US</td>\n",
       "      <td>USC00519281</td>\n",
       "      <td>1.68</td>\n",
       "    </tr>\n",
       "    <tr>\n",
       "      <th>3</th>\n",
       "      <td>7.0</td>\n",
       "      <td>21.52130</td>\n",
       "      <td>-157.83740</td>\n",
       "      <td>KUALOA RANCH HEADQUARTERS 886.9, HI US</td>\n",
       "      <td>USC00514830</td>\n",
       "      <td>1.38</td>\n",
       "    </tr>\n",
       "    <tr>\n",
       "      <th>4</th>\n",
       "      <td>19.5</td>\n",
       "      <td>21.33556</td>\n",
       "      <td>-157.71139</td>\n",
       "      <td>WAIMANALO EXPERIMENTAL FARM, HI US</td>\n",
       "      <td>USC00519523</td>\n",
       "      <td>0.30</td>\n",
       "    </tr>\n",
       "  </tbody>\n",
       "</table>\n",
       "</div>"
      ],
      "text/plain": [
       "   Elevation  Latitude  Longitude                                    Name  \\\n",
       "0      152.4  21.33310 -157.80250            MANOA LYON ARBO 785.2, HI US   \n",
       "1       14.6  21.42340 -157.80150                    KANEOHE 838.1, HI US   \n",
       "2       32.9  21.45167 -157.84889                     WAIHEE 837.5, HI US   \n",
       "3        7.0  21.52130 -157.83740  KUALOA RANCH HEADQUARTERS 886.9, HI US   \n",
       "4       19.5  21.33556 -157.71139      WAIMANALO EXPERIMENTAL FARM, HI US   \n",
       "\n",
       "       Station  Total prcp  \n",
       "0  USC00516128        7.55  \n",
       "1  USC00513117        1.85  \n",
       "2  USC00519281        1.68  \n",
       "3  USC00514830        1.38  \n",
       "4  USC00519523        0.30  "
      ]
     },
     "execution_count": 21,
     "metadata": {},
     "output_type": "execute_result"
    },
    {
     "data": {
      "application/javascript": [
       "\n",
       "            setTimeout(function() {\n",
       "                var nbb_cell_id = 21;\n",
       "                var nbb_unformatted_code = \"# Calculate the total amount of rainfall per weather station for your trip dates using the previous year's matching dates.\\n# Sort this in descending order by precipitation amount and list the station, name, latitude, longitude, and elevation\\n# Trip dates From 23rd December to 2nd January\\n\\ncmd = (\\n    session.query(\\n        func.sum(Measurement.prcp),\\n        Measurement.station,\\n        Station.name,\\n        Station.latitude,\\n        Station.longitude,\\n        Station.elevation,\\n    )\\n    .filter(Measurement.station == Station.station)\\n    .filter(\\n        and_(\\n            Measurement.date > datetime.datetime(2016, 12, 23),\\n            Measurement.date <= datetime.datetime(2017, 1, 2),\\n        )\\n    )\\n    .group_by(Measurement.station)\\n    .order_by(desc(func.sum(Measurement.prcp)))\\n)\\n\\nitems = cmd.all()\\n\\ndf_rainfall = pd.DataFrame(\\n    [\\n        {\\n            \\\"Total prcp\\\": item[0],\\n            \\\"Station\\\": item[1],\\n            \\\"Name\\\": item[2],\\n            \\\"Latitude\\\": item[3],\\n            \\\"Longitude\\\": item[4],\\n            \\\"Elevation\\\": item[5],\\n        }\\n        for item in items\\n    ]\\n)\\ndf_rainfall.head()\";\n",
       "                var nbb_formatted_code = \"# Calculate the total amount of rainfall per weather station for your trip dates using the previous year's matching dates.\\n# Sort this in descending order by precipitation amount and list the station, name, latitude, longitude, and elevation\\n# Trip dates From 23rd December to 2nd January\\n\\ncmd = (\\n    session.query(\\n        func.sum(Measurement.prcp),\\n        Measurement.station,\\n        Station.name,\\n        Station.latitude,\\n        Station.longitude,\\n        Station.elevation,\\n    )\\n    .filter(Measurement.station == Station.station)\\n    .filter(\\n        and_(\\n            Measurement.date > datetime.datetime(2016, 12, 23),\\n            Measurement.date <= datetime.datetime(2017, 1, 2),\\n        )\\n    )\\n    .group_by(Measurement.station)\\n    .order_by(desc(func.sum(Measurement.prcp)))\\n)\\n\\nitems = cmd.all()\\n\\ndf_rainfall = pd.DataFrame(\\n    [\\n        {\\n            \\\"Total prcp\\\": item[0],\\n            \\\"Station\\\": item[1],\\n            \\\"Name\\\": item[2],\\n            \\\"Latitude\\\": item[3],\\n            \\\"Longitude\\\": item[4],\\n            \\\"Elevation\\\": item[5],\\n        }\\n        for item in items\\n    ]\\n)\\ndf_rainfall.head()\";\n",
       "                var nbb_cells = Jupyter.notebook.get_cells();\n",
       "                for (var i = 0; i < nbb_cells.length; ++i) {\n",
       "                    if (nbb_cells[i].input_prompt_number == nbb_cell_id) {\n",
       "                        if (nbb_cells[i].get_text() == nbb_unformatted_code) {\n",
       "                             nbb_cells[i].set_text(nbb_formatted_code);\n",
       "                        }\n",
       "                        break;\n",
       "                    }\n",
       "                }\n",
       "            }, 500);\n",
       "            "
      ],
      "text/plain": [
       "<IPython.core.display.Javascript object>"
      ]
     },
     "metadata": {},
     "output_type": "display_data"
    }
   ],
   "source": [
    "# Calculate the total amount of rainfall per weather station for your trip dates using the previous year's matching dates.\n",
    "# Sort this in descending order by precipitation amount and list the station, name, latitude, longitude, and elevation\n",
    "# Trip dates From 23rd December to 2nd January\n",
    "\n",
    "cmd = (\n",
    "    session.query(\n",
    "        func.sum(Measurement.prcp),\n",
    "        Measurement.station,\n",
    "        Station.name,\n",
    "        Station.latitude,\n",
    "        Station.longitude,\n",
    "        Station.elevation,\n",
    "    )\n",
    "    .filter(Measurement.station == Station.station)\n",
    "    .filter(\n",
    "        and_(\n",
    "            Measurement.date > datetime.datetime(2016, 12, 23),\n",
    "            Measurement.date <= datetime.datetime(2017, 1, 2),\n",
    "        )\n",
    "    )\n",
    "    .group_by(Measurement.station)\n",
    "    .order_by(desc(func.sum(Measurement.prcp)))\n",
    ")\n",
    "\n",
    "items = cmd.all()\n",
    "\n",
    "df_rainfall = pd.DataFrame(\n",
    "    [\n",
    "        {\n",
    "            \"Total prcp\": item[0],\n",
    "            \"Station\": item[1],\n",
    "            \"Name\": item[2],\n",
    "            \"Latitude\": item[3],\n",
    "            \"Longitude\": item[4],\n",
    "            \"Elevation\": item[5],\n",
    "        }\n",
    "        for item in items\n",
    "    ]\n",
    ")\n",
    "df_rainfall.head()"
   ]
  },
  {
   "cell_type": "markdown",
   "metadata": {},
   "source": [
    "## Optional Challenge Assignment"
   ]
  },
  {
   "cell_type": "code",
   "execution_count": 22,
   "metadata": {},
   "outputs": [
    {
     "data": {
      "text/plain": [
       "[(62.0, 69.15384615384616, 77.0)]"
      ]
     },
     "execution_count": 22,
     "metadata": {},
     "output_type": "execute_result"
    },
    {
     "data": {
      "application/javascript": [
       "\n",
       "            setTimeout(function() {\n",
       "                var nbb_cell_id = 22;\n",
       "                var nbb_unformatted_code = \"# Create a query that will calculate the daily normals\\n# (i.e. the averages for tmin, tmax, and tavg for all historic data matching a specific month and day)\\n\\n\\ndef daily_normals(date):\\n    \\\"\\\"\\\"Daily Normals.\\n    \\n    Args:\\n        date (str): A date string in the format '%m-%d'\\n        \\n    Returns:\\n        A list of tuples containing the daily normals, tmin, tavg, and tmax\\n    \\n    \\\"\\\"\\\"\\n\\n    sel = [\\n        func.min(Measurement.tobs),\\n        func.avg(Measurement.tobs),\\n        func.max(Measurement.tobs),\\n    ]\\n    return (\\n        session.query(*sel)\\n        .filter(func.strftime(\\\"%m-%d\\\", Measurement.date) == date)\\n        .all()\\n    )\\n\\n\\ndaily_normals(\\\"01-01\\\")\";\n",
       "                var nbb_formatted_code = \"# Create a query that will calculate the daily normals\\n# (i.e. the averages for tmin, tmax, and tavg for all historic data matching a specific month and day)\\n\\n\\ndef daily_normals(date):\\n    \\\"\\\"\\\"Daily Normals.\\n    \\n    Args:\\n        date (str): A date string in the format '%m-%d'\\n        \\n    Returns:\\n        A list of tuples containing the daily normals, tmin, tavg, and tmax\\n    \\n    \\\"\\\"\\\"\\n\\n    sel = [\\n        func.min(Measurement.tobs),\\n        func.avg(Measurement.tobs),\\n        func.max(Measurement.tobs),\\n    ]\\n    return (\\n        session.query(*sel)\\n        .filter(func.strftime(\\\"%m-%d\\\", Measurement.date) == date)\\n        .all()\\n    )\\n\\n\\ndaily_normals(\\\"01-01\\\")\";\n",
       "                var nbb_cells = Jupyter.notebook.get_cells();\n",
       "                for (var i = 0; i < nbb_cells.length; ++i) {\n",
       "                    if (nbb_cells[i].input_prompt_number == nbb_cell_id) {\n",
       "                        if (nbb_cells[i].get_text() == nbb_unformatted_code) {\n",
       "                             nbb_cells[i].set_text(nbb_formatted_code);\n",
       "                        }\n",
       "                        break;\n",
       "                    }\n",
       "                }\n",
       "            }, 500);\n",
       "            "
      ],
      "text/plain": [
       "<IPython.core.display.Javascript object>"
      ]
     },
     "metadata": {},
     "output_type": "display_data"
    }
   ],
   "source": [
    "# Create a query that will calculate the daily normals\n",
    "# (i.e. the averages for tmin, tmax, and tavg for all historic data matching a specific month and day)\n",
    "\n",
    "\n",
    "def daily_normals(date):\n",
    "    \"\"\"Daily Normals.\n",
    "    \n",
    "    Args:\n",
    "        date (str): A date string in the format '%m-%d'\n",
    "        \n",
    "    Returns:\n",
    "        A list of tuples containing the daily normals, tmin, tavg, and tmax\n",
    "    \n",
    "    \"\"\"\n",
    "\n",
    "    sel = [\n",
    "        func.min(Measurement.tobs),\n",
    "        func.avg(Measurement.tobs),\n",
    "        func.max(Measurement.tobs),\n",
    "    ]\n",
    "    return (\n",
    "        session.query(*sel)\n",
    "        .filter(func.strftime(\"%m-%d\", Measurement.date) == date)\n",
    "        .all()\n",
    "    )\n",
    "\n",
    "\n",
    "daily_normals(\"01-01\")"
   ]
  },
  {
   "cell_type": "code",
   "execution_count": 23,
   "metadata": {},
   "outputs": [
    {
     "data": {
      "text/html": [
       "<div>\n",
       "<style scoped>\n",
       "    .dataframe tbody tr th:only-of-type {\n",
       "        vertical-align: middle;\n",
       "    }\n",
       "\n",
       "    .dataframe tbody tr th {\n",
       "        vertical-align: top;\n",
       "    }\n",
       "\n",
       "    .dataframe thead th {\n",
       "        text-align: right;\n",
       "    }\n",
       "</style>\n",
       "<table border=\"1\" class=\"dataframe\">\n",
       "  <thead>\n",
       "    <tr style=\"text-align: right;\">\n",
       "      <th></th>\n",
       "      <th>tmin</th>\n",
       "      <th>tavg</th>\n",
       "      <th>tmax</th>\n",
       "    </tr>\n",
       "    <tr>\n",
       "      <th>date</th>\n",
       "      <th></th>\n",
       "      <th></th>\n",
       "      <th></th>\n",
       "    </tr>\n",
       "  </thead>\n",
       "  <tbody>\n",
       "    <tr>\n",
       "      <th>2016-12-23</th>\n",
       "      <td>61.0</td>\n",
       "      <td>70.346939</td>\n",
       "      <td>78.0</td>\n",
       "    </tr>\n",
       "    <tr>\n",
       "      <th>2016-12-24</th>\n",
       "      <td>62.0</td>\n",
       "      <td>70.062500</td>\n",
       "      <td>78.0</td>\n",
       "    </tr>\n",
       "    <tr>\n",
       "      <th>2016-12-25</th>\n",
       "      <td>60.0</td>\n",
       "      <td>71.750000</td>\n",
       "      <td>79.0</td>\n",
       "    </tr>\n",
       "    <tr>\n",
       "      <th>2016-12-26</th>\n",
       "      <td>63.0</td>\n",
       "      <td>71.446809</td>\n",
       "      <td>77.0</td>\n",
       "    </tr>\n",
       "    <tr>\n",
       "      <th>2016-12-27</th>\n",
       "      <td>62.0</td>\n",
       "      <td>71.916667</td>\n",
       "      <td>79.0</td>\n",
       "    </tr>\n",
       "  </tbody>\n",
       "</table>\n",
       "</div>"
      ],
      "text/plain": [
       "            tmin       tavg  tmax\n",
       "date                             \n",
       "2016-12-23  61.0  70.346939  78.0\n",
       "2016-12-24  62.0  70.062500  78.0\n",
       "2016-12-25  60.0  71.750000  79.0\n",
       "2016-12-26  63.0  71.446809  77.0\n",
       "2016-12-27  62.0  71.916667  79.0"
      ]
     },
     "execution_count": 23,
     "metadata": {},
     "output_type": "execute_result"
    },
    {
     "data": {
      "application/javascript": [
       "\n",
       "            setTimeout(function() {\n",
       "                var nbb_cell_id = 23;\n",
       "                var nbb_unformatted_code = \"# calculate the daily normals for your trip\\n# push each tuple of calculations into a list called `normals`\\n\\n# Set the start and end date of the trip\\n# Use the start and end date to create a range of dates\\nTrip_start_date = datetime.date(2016, 12, 23)\\ndateList = []\\nfor x in range(0, 7):\\n     dateList.append(Trip_start_date  + datetime.timedelta(days=x))\\n\\n# Stip off the year and save a list of %m-%d strings\\ndateList_month_day = []\\nfor date in dateList:\\n    dateList_month_day.append(f\\\"{date.month}-{date.day}\\\")\\n\\n# Loop through the list of %m-%d strings and calculate the normals for each date\\ndf_daily_normal = pd.DataFrame([daily_normals(item)[0]  for item in dateList_month_day], columns = [\\\"tmin\\\", \\\"tavg\\\", \\\"tmax\\\"])\\n\\n# Load the previous query results into a Pandas DataFrame and add the `trip_dates` range as the `date` index\\ndf_daily_normal[\\\"date\\\"]=dateList\\ndf_daily_normal.set_index(\\\"date\\\", inplace = True)\\ndf_daily_normal.head()\";\n",
       "                var nbb_formatted_code = \"# calculate the daily normals for your trip\\n# push each tuple of calculations into a list called `normals`\\n\\n# Set the start and end date of the trip\\n# Use the start and end date to create a range of dates\\nTrip_start_date = datetime.date(2016, 12, 23)\\ndateList = []\\nfor x in range(0, 7):\\n    dateList.append(Trip_start_date + datetime.timedelta(days=x))\\n\\n# Stip off the year and save a list of %m-%d strings\\ndateList_month_day = []\\nfor date in dateList:\\n    dateList_month_day.append(f\\\"{date.month}-{date.day}\\\")\\n\\n# Loop through the list of %m-%d strings and calculate the normals for each date\\ndf_daily_normal = pd.DataFrame(\\n    [daily_normals(item)[0] for item in dateList_month_day],\\n    columns=[\\\"tmin\\\", \\\"tavg\\\", \\\"tmax\\\"],\\n)\\n\\n# Load the previous query results into a Pandas DataFrame and add the `trip_dates` range as the `date` index\\ndf_daily_normal[\\\"date\\\"] = dateList\\ndf_daily_normal.set_index(\\\"date\\\", inplace=True)\\ndf_daily_normal.head()\";\n",
       "                var nbb_cells = Jupyter.notebook.get_cells();\n",
       "                for (var i = 0; i < nbb_cells.length; ++i) {\n",
       "                    if (nbb_cells[i].input_prompt_number == nbb_cell_id) {\n",
       "                        if (nbb_cells[i].get_text() == nbb_unformatted_code) {\n",
       "                             nbb_cells[i].set_text(nbb_formatted_code);\n",
       "                        }\n",
       "                        break;\n",
       "                    }\n",
       "                }\n",
       "            }, 500);\n",
       "            "
      ],
      "text/plain": [
       "<IPython.core.display.Javascript object>"
      ]
     },
     "metadata": {},
     "output_type": "display_data"
    }
   ],
   "source": [
    "# calculate the daily normals for your trip\n",
    "# push each tuple of calculations into a list called `normals`\n",
    "\n",
    "# Set the start and end date of the trip\n",
    "# Use the start and end date to create a range of dates\n",
    "Trip_start_date = datetime.date(2016, 12, 23)\n",
    "dateList = []\n",
    "for x in range(0, 7):\n",
    "     dateList.append(Trip_start_date  + datetime.timedelta(days=x))\n",
    "\n",
    "# Stip off the year and save a list of %m-%d strings\n",
    "dateList_month_day = []\n",
    "for date in dateList:\n",
    "    dateList_month_day.append(f\"{date.month}-{date.day}\")\n",
    "\n",
    "# Loop through the list of %m-%d strings and calculate the normals for each date\n",
    "df_daily_normal = pd.DataFrame([daily_normals(item)[0]  for item in dateList_month_day], columns = [\"tmin\", \"tavg\", \"tmax\"])\n",
    "\n",
    "# Load the previous query results into a Pandas DataFrame and add the `trip_dates` range as the `date` index\n",
    "df_daily_normal[\"date\"]=dateList\n",
    "df_daily_normal.set_index(\"date\", inplace = True)\n",
    "df_daily_normal.head()\n"
   ]
  },
  {
   "cell_type": "code",
   "execution_count": 24,
   "metadata": {},
   "outputs": [
    {
     "data": {
      "image/png": "[encoded data removed]",
      "text/plain": [
       "<Figure size 432x288 with 1 Axes>"
      ]
     },
     "metadata": {
      "needs_background": "light"
     },
     "output_type": "display_data"
    },
    {
     "data": {
      "application/javascript": [
       "\n",
       "            setTimeout(function() {\n",
       "                var nbb_cell_id = 24;\n",
       "                var nbb_unformatted_code = \"# Plot the daily normals as an area plot with `stacked=False`\\nax=df_daily_normal.plot.area(stacked=False, rot = 45)\\nplt.ylabel('Temperature in Farenheight')\\nplt.title('Temperature over the period of your Vacation')\\nfigsize_width = 15\\nfigsize_height =10\\nmpl.rcParams[\\\"figure.figsize\\\"]= figsize_width, figsize_height\";\n",
       "                var nbb_formatted_code = \"# Plot the daily normals as an area plot with `stacked=False`\\nax = df_daily_normal.plot.area(stacked=False, rot=45)\\nplt.ylabel(\\\"Temperature in Farenheight\\\")\\nplt.title(\\\"Temperature over the period of your Vacation\\\")\\nfigsize_width = 15\\nfigsize_height = 10\\nmpl.rcParams[\\\"figure.figsize\\\"] = figsize_width, figsize_height\";\n",
       "                var nbb_cells = Jupyter.notebook.get_cells();\n",
       "                for (var i = 0; i < nbb_cells.length; ++i) {\n",
       "                    if (nbb_cells[i].input_prompt_number == nbb_cell_id) {\n",
       "                        if (nbb_cells[i].get_text() == nbb_unformatted_code) {\n",
       "                             nbb_cells[i].set_text(nbb_formatted_code);\n",
       "                        }\n",
       "                        break;\n",
       "                    }\n",
       "                }\n",
       "            }, 500);\n",
       "            "
      ],
      "text/plain": [
       "<IPython.core.display.Javascript object>"
      ]
     },
     "metadata": {},
     "output_type": "display_data"
    }
   ],
   "source": [
    "# Plot the daily normals as an area plot with `stacked=False`\n",
    "ax=df_daily_normal.plot.area(stacked=False, rot = 45)\n",
    "plt.ylabel('Temperature in Farenheight')\n",
    "plt.title('Temperature over the period of your Vacation')\n",
    "figsize_width = 15\n",
    "figsize_height =10\n",
    "mpl.rcParams[\"figure.figsize\"]= figsize_width, figsize_height\n"
   ]
  }
 ],
 "metadata": {
  "kernel_info": {
   "name": "python3"
  },
  "kernelspec": {
   "display_name": "fun_with_sqlalchemy",
   "language": "python",
   "name": "python3"
  },
  "language_info": {
   "codemirror_mode": {
    "name": "ipython",
    "version": 3
   },
   "file_extension": ".py",
   "mimetype": "text/x-python",
   "name": "python",
   "nbconvert_exporter": "python",
   "pygments_lexer": "ipython3",
   "version": "3.7.3"
  },
  "nteract": {
   "version": "0.12.3"
  },
  "varInspector": {
   "cols": {
    "lenName": 16,
    "lenType": 16,
    "lenVar": 40
   },
   "kernels_config": {
    "python": {
     "delete_cmd_postfix": "",
     "delete_cmd_prefix": "del ",
     "library": "var_list.py",
     "varRefreshCmd": "print(var_dic_list())"
    },
    "r": {
     "delete_cmd_postfix": ") ",
     "delete_cmd_prefix": "rm(",
     "library": "var_list.r",
     "varRefreshCmd": "cat(var_dic_list()) "
    }
   },
   "types_to_exclude": [
    "module",
    "function",
    "builtin_function_or_method",
    "instance",
    "_Feature"
   ],
   "window_display": false
  }
 },
 "nbformat": 4,
 "nbformat_minor": 4
}
